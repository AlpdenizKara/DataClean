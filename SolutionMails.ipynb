{
 "cells": [
  {
   "cell_type": "code",
   "execution_count": null,
   "id": "bf4cf436-c66f-4dfb-99b7-60e4f3ddd665",
   "metadata": {},
   "outputs": [],
   "source": [
    "import pandas as pd\n",
    "import numpy as np"
   ]
  },
  {
   "cell_type": "code",
   "execution_count": null,
   "id": "85cb2494-285a-4e31-94d6-3fefa189e5a7",
   "metadata": {},
   "outputs": [],
   "source": [
    "# EXPORT EXCEL FİLE\n",
    "df = pd.read_excel(\"Mailler.xlsx\")"
   ]
  },
  {
   "cell_type": "code",
   "execution_count": null,
   "id": "6536c283-704b-4913-b9d2-cef08b2b4989",
   "metadata": {},
   "outputs": [],
   "source": [
    "# A NEW DEF FOR CLEAN AND SEPERATE MAİLS\n",
    "def seperate(string,x2,x1):\n",
    "    index = string.find(x1)\n",
    "    k = string[:index]\n",
    "    index = k.find(x2)\n",
    "    k = k[index:].replace(x2,\"\").lower()\n",
    "    return k"
   ]
  },
  {
   "cell_type": "code",
   "execution_count": null,
   "id": "b68a0ba5-6376-4176-85be-4277ab4c2dba",
   "metadata": {},
   "outputs": [],
   "source": [
    "# SEPERATE,CLEAN FOR FIND COMPANİES\n",
    "dfE = []\n",
    "for i in range(0,len(df[\"EMAIL\"])):\n",
    "    sorgu = seperate(df[\"EMAIL\"][i],\"@\",\".\")\n",
    "    if sorgu == \"gmail\" or sorgu == \"hotmail\":\n",
    "        dfE.append(\"Null\")\n",
    "    else:\n",
    "        dfE.append(seperate(df[\"EMAIL\"][i],\"@\",\".\"))\n",
    "\n",
    "# CREATE NEW COLUMN FOR COMPANİES IN DF\n",
    "df[\"COMPANİES\"] = dfE"
   ]
  },
  {
   "cell_type": "code",
   "execution_count": null,
   "id": "3af12453-cebb-415f-a6dc-5af5192d287f",
   "metadata": {},
   "outputs": [],
   "source": [
    "print(df)"
   ]
  }
 ],
 "metadata": {
  "kernelspec": {
   "display_name": "Python 3 (ipykernel)",
   "language": "python",
   "name": "python3"
  },
  "language_info": {
   "codemirror_mode": {
    "name": "ipython",
    "version": 3
   },
   "file_extension": ".py",
   "mimetype": "text/x-python",
   "name": "python",
   "nbconvert_exporter": "python",
   "pygments_lexer": "ipython3",
   "version": "3.9.7"
  }
 },
 "nbformat": 4,
 "nbformat_minor": 5
}
